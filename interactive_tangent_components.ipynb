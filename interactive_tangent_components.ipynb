{
 "cells": [
  {
   "cell_type": "code",
   "execution_count": 1,
   "metadata": {},
   "outputs": [],
   "source": [
    "import numpy as np\n",
    "import matplotlib.pyplot as plt\n",
    "from ipywidgets import interact, interactive, fixed, interact_manual, IntSlider, HBox, VBox, Layout, Dropdown\n",
    "from IPython.display import display\n",
    "import ipywidgets as widgets\n",
    "import sympy as sy\n",
    "from sympy import *\n"
   ]
  },
  {
   "cell_type": "code",
   "execution_count": 2,
   "metadata": {},
   "outputs": [],
   "source": [
    "x = Symbol('x')\n",
    "s = Symbol('s')"
   ]
  },
  {
   "cell_type": "code",
   "execution_count": 3,
   "metadata": {},
   "outputs": [],
   "source": [
    "def components(f, t, xValues):\n",
    "    \"\"\"Returns components of normalized tangential vector of evolved surface\"\"\"\n",
    "    # calculate derivatives of f\n",
    "    funcPrime = f.diff(x)\n",
    "    func2Prime = funcPrime.diff(x)\n",
    "    # turn derivatives into numpy expressions\n",
    "    npFunc = lambdify(x, f, 'numpy')\n",
    "    npFuncPrime = lambdify(x, funcPrime, 'numpy')\n",
    "    npFunc2Prime = lambdify(x, func2Prime, 'numpy')\n",
    "    # define often used qunatities\n",
    "    denom = (1 + npFuncPrime(xValues)**2)**(3 / 2)\n",
    "    # signed curvature\n",
    "    k = npFunc2Prime(xValues) / denom\n",
    "    # critical coefficient\n",
    "    A = 1 -  k * t\n",
    "    # define components\n",
    "    c1 = A\n",
    "    c2 = A * npFuncPrime(xValues)\n",
    "    # define norm\n",
    "    norm = np.sqrt(c1**2 + c2**2)\n",
    "    #return normalized components\n",
    "    return c1 / norm, c2 / norm\n",
    "\n",
    "def kink_coeff(f, t, xValues):\n",
    "    \"\"\"Returns kink coefficient \"\"\"\n",
    "    # calculate derivatives of f\n",
    "    funcPrime = f.diff(x)\n",
    "    func2Prime = funcPrime.diff(x)\n",
    "    # turn derivatives into numpy expressions\n",
    "    npFuncPrime = lambdify(x, funcPrime, 'numpy')\n",
    "    npFunc2Prime = lambdify(x, func2Prime, 'numpy')\n",
    "    denom = (1 + npFuncPrime(xValues)**2)**(3 / 2)\n",
    "    k = npFunc2Prime(xValues) / denom\n",
    "    # calculate kink coefficient\n",
    "    A = 1 - k * t\n",
    "    chi = A / np.abs(A)\n",
    "    return A, chi, k\n",
    "\n",
    "\n"
   ]
  },
  {
   "cell_type": "code",
   "execution_count": 4,
   "metadata": {},
   "outputs": [
    {
     "name": "stdout",
     "output_type": "stream",
     "text": [
      "Function f\n"
     ]
    },
    {
     "data": {
      "text/latex": [
       "$\\displaystyle x^{2}$"
      ],
      "text/plain": [
       "x**2"
      ]
     },
     "metadata": {},
     "output_type": "display_data"
    },
    {
     "name": "stdout",
     "output_type": "stream",
     "text": [
      "First derivative of f\n"
     ]
    },
    {
     "data": {
      "text/latex": [
       "$\\displaystyle 2 x$"
      ],
      "text/plain": [
       "2*x"
      ]
     },
     "metadata": {},
     "output_type": "display_data"
    },
    {
     "name": "stdout",
     "output_type": "stream",
     "text": [
      "Second derivative of f\n"
     ]
    },
    {
     "data": {
      "text/latex": [
       "$\\displaystyle 2$"
      ],
      "text/plain": [
       "2"
      ]
     },
     "metadata": {},
     "output_type": "display_data"
    },
    {
     "name": "stdout",
     "output_type": "stream",
     "text": [
      "First component normalized\n"
     ]
    },
    {
     "data": {
      "text/latex": [
       "$\\displaystyle \\frac{- \\frac{2 s}{\\left(4 x^{2} + 1\\right)^{1.5}} + 1}{\\sqrt{4 x^{2} \\left(- \\frac{2 s}{\\left(4 x^{2} + 1\\right)^{1.5}} + 1\\right)^{2} + \\left(- \\frac{2 s}{\\left(4 x^{2} + 1\\right)^{1.5}} + 1\\right)^{2}}}$"
      ],
      "text/plain": [
       "(-2*s/(4*x**2 + 1)**1.5 + 1)/sqrt(4*x**2*(-2*s/(4*x**2 + 1)**1.5 + 1)**2 + (-2*s/(4*x**2 + 1)**1.5 + 1)**2)"
      ]
     },
     "metadata": {},
     "output_type": "display_data"
    },
    {
     "name": "stdout",
     "output_type": "stream",
     "text": [
      "Second component normalized\n"
     ]
    },
    {
     "data": {
      "text/latex": [
       "$\\displaystyle \\frac{2 x \\left(- \\frac{2 s}{\\left(4 x^{2} + 1\\right)^{1.5}} + 1\\right)}{\\sqrt{4 x^{2} \\left(- \\frac{2 s}{\\left(4 x^{2} + 1\\right)^{1.5}} + 1\\right)^{2} + \\left(- \\frac{2 s}{\\left(4 x^{2} + 1\\right)^{1.5}} + 1\\right)^{2}}}$"
      ],
      "text/plain": [
       "2*x*(-2*s/(4*x**2 + 1)**1.5 + 1)/sqrt(4*x**2*(-2*s/(4*x**2 + 1)**1.5 + 1)**2 + (-2*s/(4*x**2 + 1)**1.5 + 1)**2)"
      ]
     },
     "metadata": {},
     "output_type": "display_data"
    },
    {
     "name": "stdout",
     "output_type": "stream",
     "text": [
      "Both expressions simplified\n"
     ]
    },
    {
     "data": {
      "text/latex": [
       "$\\displaystyle \\frac{- 2 s + \\left(4 x^{2} + 1\\right)^{1.5}}{\\left(4 x^{2} + 1\\right)^{1.5} \\sqrt{\\frac{4 s^{2}}{\\left(4 x^{2} + 1\\right)^{2.0}} - \\frac{4 s}{\\left(4 x^{2} + 1\\right)^{0.5}} + \\left(4 x^{2} + 1\\right)^{1.0}}}$"
      ],
      "text/plain": [
       "(-2*s + (4*x**2 + 1)**1.5)/((4*x**2 + 1)**1.5*sqrt(4*s**2/(4*x**2 + 1)**2.0 - 4*s/(4*x**2 + 1)**0.5 + (4*x**2 + 1)**1.0))"
      ]
     },
     "metadata": {},
     "output_type": "display_data"
    },
    {
     "data": {
      "text/latex": [
       "$\\displaystyle \\frac{2 x \\left(- 2 s + \\left(4 x^{2} + 1\\right)^{1.5}\\right)}{\\left(4 x^{2} + 1\\right)^{1.5} \\sqrt{\\frac{4 s^{2}}{\\left(4 x^{2} + 1\\right)^{2.0}} - \\frac{4 s}{\\left(4 x^{2} + 1\\right)^{0.5}} + \\left(4 x^{2} + 1\\right)^{1.0}}}$"
      ],
      "text/plain": [
       "2*x*(-2*s + (4*x**2 + 1)**1.5)/((4*x**2 + 1)**1.5*sqrt(4*s**2/(4*x**2 + 1)**2.0 - 4*s/(4*x**2 + 1)**0.5 + (4*x**2 + 1)**1.0))"
      ]
     },
     "metadata": {},
     "output_type": "display_data"
    }
   ],
   "source": [
    "f = x**2\n",
    "fP = f.diff()\n",
    "f2P = fP.diff()\n",
    "print('Function f')\n",
    "display(f)\n",
    "print('First derivative of f')\n",
    "display(fP)\n",
    "print('Second derivative of f')\n",
    "display(f2P)\n",
    "denom = (1 + fP **2)**(3/2)\n",
    "prefactor = 1 - f2P * s / denom\n",
    "c1 = prefactor \n",
    "c2 = prefactor * fP\n",
    "norm = sqrt(c1**2 + c2**2)\n",
    "print('First component normalized')\n",
    "display(c1 / norm)\n",
    "print('Second component normalized')\n",
    "display(c2 / norm)\n",
    "print('Both expressions simplified')\n",
    "display(simplify(factor(c1 / norm)))\n",
    "display(simplify(factor(c2 / norm)))\n",
    "\n"
   ]
  },
  {
   "cell_type": "code",
   "execution_count": 5,
   "metadata": {},
   "outputs": [],
   "source": [
    "def plotting(\n",
    "    input,\n",
    "    t=0,\n",
    "    posValueLimit=5,\n",
    "    negValueLimit=5\n",
    "    ):\n",
    "    values = np.arange(-negValueLimit, posValueLimit, 0.01)\n",
    "    fig, (ax1, ax2, ax3) = plt.subplots(3, sharex=True)\n",
    "    fig.set_figheight(10)\n",
    "    fig.set_figwidth(10)\n",
    "    ax2.set_xlabel(r'$x$')\n",
    "    ax1.set_ylabel(r'$\\hat{T}_0(t,x)$')\n",
    "    ax2.set_ylabel(r'$\\hat{T}_1(t,x)$')\n",
    "    ax2.set_xticks(np.arange(-negValueLimit, posValueLimit+1, .5))\n",
    "    #plt.subplots_adjust(top=0.8)\n",
    "    function = x**2\n",
    "    try:\n",
    "        function = eval(input)\n",
    "    except Exception:\n",
    "        # ignore error that appears when not done writing\n",
    "        pass\n",
    "    comp = components(function, t, values)\n",
    "    kinkCoeff = kink_coeff(function, t, values)\n",
    "    ax1.plot(values, comp[0])\n",
    "    ax2.plot(values, comp[1])\n",
    "    ax3.plot(values, kinkCoeff[0], label=r'$\\mathcal{A}$')\n",
    "    ax3.plot(values, kinkCoeff[1], label=r'$\\chi$')\n",
    "    ax3.plot(values, kinkCoeff[2], label=r'$k$')\n",
    "    ax3.plot(values, np.zeros(len(values)), color='black')\n",
    "    ax3.legend()\n",
    "    return fig"
   ]
  },
  {
   "cell_type": "code",
   "execution_count": 6,
   "metadata": {},
   "outputs": [],
   "source": [
    "def main():\n",
    "    style = {'description_width': 'initial'}\n",
    "    interact(plotting,\n",
    "        input = widgets.Text(\n",
    "            value='x**2',\n",
    "            placeholder='Initial function e.g. x**2',\n",
    "            description='Initial function:',\n",
    "            disabled=False,\n",
    "            style=style\n",
    "        ),\n",
    "        posValueLimit = widgets.IntSlider(min=1, max=20, step=1, description='Max. x-Value:', style=style), \n",
    "        negValueLimit = widgets.IntSlider(min=1, max=20, step=1, description='Min. x-Value:', style=style),\n",
    "        t = widgets.FloatSlider(min=-20, max = 20, step = 0.1, description='Time', style=style),\n",
    "    )"
   ]
  },
  {
   "cell_type": "code",
   "execution_count": 7,
   "metadata": {},
   "outputs": [
    {
     "data": {
      "application/vnd.jupyter.widget-view+json": {
       "model_id": "f696a5dd713240ee8169a7a0652b6e9a",
       "version_major": 2,
       "version_minor": 0
      },
      "text/plain": [
       "interactive(children=(Text(value='x**2', description='Initial function:', placeholder='Initial function e.g. x…"
      ]
     },
     "metadata": {},
     "output_type": "display_data"
    },
    {
     "data": {
      "image/png": "[encoded data removed]",
      "text/plain": [
       "<Figure size 720x720 with 3 Axes>"
      ]
     },
     "metadata": {
      "needs_background": "light"
     },
     "output_type": "display_data"
    }
   ],
   "source": [
    "main()"
   ]
  }
 ],
 "metadata": {
  "kernelspec": {
   "display_name": "Python 3.9.4 64-bit ('3.9.4')",
   "language": "python",
   "name": "python3"
  },
  "language_info": {
   "codemirror_mode": {
    "name": "ipython",
    "version": 3
   },
   "file_extension": ".py",
   "mimetype": "text/x-python",
   "name": "python",
   "nbconvert_exporter": "python",
   "pygments_lexer": "ipython3",
   "version": "3.9.4"
  },
  "orig_nbformat": 4,
  "vscode": {
   "interpreter": {
    "hash": "cf61bdc054ebd1767f2373d2e23bae97882338c454ec9709da9408656838faa4"
   }
  }
 },
 "nbformat": 4,
 "nbformat_minor": 2
}
